{
 "cells": [
  {
   "cell_type": "markdown",
   "id": "bbbe0008",
   "metadata": {},
   "source": [
    "# Cybersecurity Analytics with Generative AI\n",
    "This notebook includes exercises on behavioral analytics, threat detection, risk scoring, and automated response."
   ]
  },
  {
   "cell_type": "markdown",
   "id": "b5795a5d",
   "metadata": {},
   "source": [
    "## Behavioral Analytics: Detect Anomalies in User Behavior"
   ]
  },
  {
   "cell_type": "code",
   "execution_count": 3,
   "id": "8aedfb11",
   "metadata": {},
   "outputs": [
    {
     "data": {
      "text/html": [
       "<div>\n",
       "<style scoped>\n",
       "    .dataframe tbody tr th:only-of-type {\n",
       "        vertical-align: middle;\n",
       "    }\n",
       "\n",
       "    .dataframe tbody tr th {\n",
       "        vertical-align: top;\n",
       "    }\n",
       "\n",
       "    .dataframe thead th {\n",
       "        text-align: right;\n",
       "    }\n",
       "</style>\n",
       "<table border=\"1\" class=\"dataframe\">\n",
       "  <thead>\n",
       "    <tr style=\"text-align: right;\">\n",
       "      <th></th>\n",
       "      <th>user</th>\n",
       "      <th>timestamp</th>\n",
       "      <th>location</th>\n",
       "      <th>hour</th>\n",
       "    </tr>\n",
       "  </thead>\n",
       "  <tbody>\n",
       "    <tr>\n",
       "      <th>0</th>\n",
       "      <td>alice</td>\n",
       "      <td>2025-06-01 09:00:00</td>\n",
       "      <td>Denver</td>\n",
       "      <td>9</td>\n",
       "    </tr>\n",
       "    <tr>\n",
       "      <th>1</th>\n",
       "      <td>bob</td>\n",
       "      <td>2025-06-01 03:00:00</td>\n",
       "      <td>Russia</td>\n",
       "      <td>3</td>\n",
       "    </tr>\n",
       "    <tr>\n",
       "      <th>2</th>\n",
       "      <td>alice</td>\n",
       "      <td>2025-06-02 10:00:00</td>\n",
       "      <td>Denver</td>\n",
       "      <td>10</td>\n",
       "    </tr>\n",
       "    <tr>\n",
       "      <th>3</th>\n",
       "      <td>bob</td>\n",
       "      <td>2025-06-02 23:30:00</td>\n",
       "      <td>Chicago</td>\n",
       "      <td>23</td>\n",
       "    </tr>\n",
       "    <tr>\n",
       "      <th>4</th>\n",
       "      <td>charlie</td>\n",
       "      <td>2025-06-01 22:00:00</td>\n",
       "      <td>Denver</td>\n",
       "      <td>22</td>\n",
       "    </tr>\n",
       "  </tbody>\n",
       "</table>\n",
       "</div>"
      ],
      "text/plain": [
       "      user           timestamp location  hour\n",
       "0    alice 2025-06-01 09:00:00   Denver     9\n",
       "1      bob 2025-06-01 03:00:00   Russia     3\n",
       "2    alice 2025-06-02 10:00:00   Denver    10\n",
       "3      bob 2025-06-02 23:30:00  Chicago    23\n",
       "4  charlie 2025-06-01 22:00:00   Denver    22"
      ]
     },
     "execution_count": 3,
     "metadata": {},
     "output_type": "execute_result"
    }
   ],
   "source": [
    "import pandas as pd\n",
    "\n",
    "# Simulated login data\n",
    "data = {\n",
    "    \"user\": [\"alice\", \"bob\", \"alice\", \"bob\", \"charlie\"],\n",
    "    \"timestamp\": [\"2025-06-01 09:00\", \"2025-06-01 03:00\", \"2025-06-02 10:00\", \"2025-06-02 23:30\", \"2025-06-01 22:00\"],\n",
    "    \"location\": [\"Denver\", \"Russia\", \"Denver\", \"Chicago\", \"Denver\"]\n",
    "}\n",
    "df = pd.DataFrame(data)\n",
    "df['timestamp'] = pd.to_datetime(df['timestamp'])\n",
    "df['hour'] = df['timestamp'].dt.hour\n",
    "\n",
    "df"
   ]
  },
  {
   "cell_type": "code",
   "execution_count": 2,
   "id": "298ba44e",
   "metadata": {},
   "outputs": [
    {
     "data": {
      "text/html": [
       "<div>\n",
       "<style scoped>\n",
       "    .dataframe tbody tr th:only-of-type {\n",
       "        vertical-align: middle;\n",
       "    }\n",
       "\n",
       "    .dataframe tbody tr th {\n",
       "        vertical-align: top;\n",
       "    }\n",
       "\n",
       "    .dataframe thead th {\n",
       "        text-align: right;\n",
       "    }\n",
       "</style>\n",
       "<table border=\"1\" class=\"dataframe\">\n",
       "  <thead>\n",
       "    <tr style=\"text-align: right;\">\n",
       "      <th></th>\n",
       "      <th>user</th>\n",
       "      <th>timestamp</th>\n",
       "      <th>location</th>\n",
       "      <th>hour</th>\n",
       "      <th>anomaly</th>\n",
       "    </tr>\n",
       "  </thead>\n",
       "  <tbody>\n",
       "    <tr>\n",
       "      <th>0</th>\n",
       "      <td>alice</td>\n",
       "      <td>2025-06-01 09:00:00</td>\n",
       "      <td>Denver</td>\n",
       "      <td>9</td>\n",
       "      <td>False</td>\n",
       "    </tr>\n",
       "    <tr>\n",
       "      <th>1</th>\n",
       "      <td>bob</td>\n",
       "      <td>2025-06-01 03:00:00</td>\n",
       "      <td>Russia</td>\n",
       "      <td>3</td>\n",
       "      <td>True</td>\n",
       "    </tr>\n",
       "    <tr>\n",
       "      <th>2</th>\n",
       "      <td>alice</td>\n",
       "      <td>2025-06-02 10:00:00</td>\n",
       "      <td>Denver</td>\n",
       "      <td>10</td>\n",
       "      <td>False</td>\n",
       "    </tr>\n",
       "    <tr>\n",
       "      <th>3</th>\n",
       "      <td>bob</td>\n",
       "      <td>2025-06-02 23:30:00</td>\n",
       "      <td>Chicago</td>\n",
       "      <td>23</td>\n",
       "      <td>True</td>\n",
       "    </tr>\n",
       "    <tr>\n",
       "      <th>4</th>\n",
       "      <td>charlie</td>\n",
       "      <td>2025-06-01 22:00:00</td>\n",
       "      <td>Denver</td>\n",
       "      <td>22</td>\n",
       "      <td>True</td>\n",
       "    </tr>\n",
       "  </tbody>\n",
       "</table>\n",
       "</div>"
      ],
      "text/plain": [
       "      user           timestamp location  hour  anomaly\n",
       "0    alice 2025-06-01 09:00:00   Denver     9    False\n",
       "1      bob 2025-06-01 03:00:00   Russia     3     True\n",
       "2    alice 2025-06-02 10:00:00   Denver    10    False\n",
       "3      bob 2025-06-02 23:30:00  Chicago    23     True\n",
       "4  charlie 2025-06-01 22:00:00   Denver    22     True"
      ]
     },
     "execution_count": 2,
     "metadata": {},
     "output_type": "execute_result"
    }
   ],
   "source": [
    "# Detect anomalies: logins outside 6AM-8PM\n",
    "df['anomaly'] = df['hour'].apply(lambda x: x < 6 or x > 20)\n",
    "df"
   ]
  },
  {
   "cell_type": "markdown",
   "id": "f91a06a7",
   "metadata": {},
   "source": [
    "## Threat Detection: Signature and Anomaly Detection"
   ]
  },
  {
   "cell_type": "code",
   "execution_count": 4,
   "id": "b95cd154",
   "metadata": {},
   "outputs": [
    {
     "data": {
      "text/html": [
       "<div>\n",
       "<style scoped>\n",
       "    .dataframe tbody tr th:only-of-type {\n",
       "        vertical-align: middle;\n",
       "    }\n",
       "\n",
       "    .dataframe tbody tr th {\n",
       "        vertical-align: top;\n",
       "    }\n",
       "\n",
       "    .dataframe thead th {\n",
       "        text-align: right;\n",
       "    }\n",
       "</style>\n",
       "<table border=\"1\" class=\"dataframe\">\n",
       "  <thead>\n",
       "    <tr style=\"text-align: right;\">\n",
       "      <th></th>\n",
       "      <th>source_ip</th>\n",
       "      <th>port</th>\n",
       "      <th>action</th>\n",
       "    </tr>\n",
       "  </thead>\n",
       "  <tbody>\n",
       "    <tr>\n",
       "      <th>0</th>\n",
       "      <td>10.0.0.1</td>\n",
       "      <td>80</td>\n",
       "      <td>ALLOW</td>\n",
       "    </tr>\n",
       "    <tr>\n",
       "      <th>1</th>\n",
       "      <td>10.0.0.2</td>\n",
       "      <td>23</td>\n",
       "      <td>BLOCK</td>\n",
       "    </tr>\n",
       "    <tr>\n",
       "      <th>2</th>\n",
       "      <td>192.168.1.1</td>\n",
       "      <td>8080</td>\n",
       "      <td>ALLOW</td>\n",
       "    </tr>\n",
       "    <tr>\n",
       "      <th>3</th>\n",
       "      <td>172.16.0.5</td>\n",
       "      <td>22</td>\n",
       "      <td>BLOCK</td>\n",
       "    </tr>\n",
       "  </tbody>\n",
       "</table>\n",
       "</div>"
      ],
      "text/plain": [
       "     source_ip  port action\n",
       "0     10.0.0.1    80  ALLOW\n",
       "1     10.0.0.2    23  BLOCK\n",
       "2  192.168.1.1  8080  ALLOW\n",
       "3   172.16.0.5    22  BLOCK"
      ]
     },
     "execution_count": 4,
     "metadata": {},
     "output_type": "execute_result"
    }
   ],
   "source": [
    "# Simulated firewall log\n",
    "logs = {\n",
    "    \"source_ip\": [\"10.0.0.1\", \"10.0.0.2\", \"192.168.1.1\", \"172.16.0.5\"],\n",
    "    \"port\": [80, 23, 8080, 22],\n",
    "    \"action\": [\"ALLOW\", \"BLOCK\", \"ALLOW\", \"BLOCK\"]\n",
    "}\n",
    "df_logs = pd.DataFrame(logs)\n",
    "df_logs\n",
    "\n"
   ]
  },
  {
   "cell_type": "code",
   "execution_count": 5,
   "id": "e2124a3b",
   "metadata": {},
   "outputs": [
    {
     "data": {
      "text/html": [
       "<div>\n",
       "<style scoped>\n",
       "    .dataframe tbody tr th:only-of-type {\n",
       "        vertical-align: middle;\n",
       "    }\n",
       "\n",
       "    .dataframe tbody tr th {\n",
       "        vertical-align: top;\n",
       "    }\n",
       "\n",
       "    .dataframe thead th {\n",
       "        text-align: right;\n",
       "    }\n",
       "</style>\n",
       "<table border=\"1\" class=\"dataframe\">\n",
       "  <thead>\n",
       "    <tr style=\"text-align: right;\">\n",
       "      <th></th>\n",
       "      <th>source_ip</th>\n",
       "      <th>port</th>\n",
       "      <th>action</th>\n",
       "      <th>threat_detected</th>\n",
       "    </tr>\n",
       "  </thead>\n",
       "  <tbody>\n",
       "    <tr>\n",
       "      <th>0</th>\n",
       "      <td>10.0.0.1</td>\n",
       "      <td>80</td>\n",
       "      <td>ALLOW</td>\n",
       "      <td>False</td>\n",
       "    </tr>\n",
       "    <tr>\n",
       "      <th>1</th>\n",
       "      <td>10.0.0.2</td>\n",
       "      <td>23</td>\n",
       "      <td>BLOCK</td>\n",
       "      <td>True</td>\n",
       "    </tr>\n",
       "    <tr>\n",
       "      <th>2</th>\n",
       "      <td>192.168.1.1</td>\n",
       "      <td>8080</td>\n",
       "      <td>ALLOW</td>\n",
       "      <td>False</td>\n",
       "    </tr>\n",
       "    <tr>\n",
       "      <th>3</th>\n",
       "      <td>172.16.0.5</td>\n",
       "      <td>22</td>\n",
       "      <td>BLOCK</td>\n",
       "      <td>True</td>\n",
       "    </tr>\n",
       "  </tbody>\n",
       "</table>\n",
       "</div>"
      ],
      "text/plain": [
       "     source_ip  port action  threat_detected\n",
       "0     10.0.0.1    80  ALLOW            False\n",
       "1     10.0.0.2    23  BLOCK             True\n",
       "2  192.168.1.1  8080  ALLOW            False\n",
       "3   172.16.0.5    22  BLOCK             True"
      ]
     },
     "execution_count": 5,
     "metadata": {},
     "output_type": "execute_result"
    }
   ],
   "source": [
    "# Simple pattern detection: flag blocked ports\n",
    "df_logs['threat_detected'] = df_logs['action'] == \"BLOCK\"\n",
    "df_logs"
   ]
  },
  {
   "cell_type": "markdown",
   "id": "776a9fc7",
   "metadata": {},
   "source": [
    "## Risk Scoring: Prioritize Based on Impact"
   ]
  },
  {
   "cell_type": "code",
   "execution_count": 6,
   "id": "2f21932b",
   "metadata": {},
   "outputs": [
    {
     "data": {
      "text/html": [
       "<div>\n",
       "<style scoped>\n",
       "    .dataframe tbody tr th:only-of-type {\n",
       "        vertical-align: middle;\n",
       "    }\n",
       "\n",
       "    .dataframe tbody tr th {\n",
       "        vertical-align: top;\n",
       "    }\n",
       "\n",
       "    .dataframe thead th {\n",
       "        text-align: right;\n",
       "    }\n",
       "</style>\n",
       "<table border=\"1\" class=\"dataframe\">\n",
       "  <thead>\n",
       "    <tr style=\"text-align: right;\">\n",
       "      <th></th>\n",
       "      <th>user_role</th>\n",
       "      <th>asset_value</th>\n",
       "      <th>incident_type</th>\n",
       "      <th>confidence_score</th>\n",
       "    </tr>\n",
       "  </thead>\n",
       "  <tbody>\n",
       "    <tr>\n",
       "      <th>0</th>\n",
       "      <td>guest</td>\n",
       "      <td>2</td>\n",
       "      <td>login_fail</td>\n",
       "      <td>0.70</td>\n",
       "    </tr>\n",
       "    <tr>\n",
       "      <th>1</th>\n",
       "      <td>admin</td>\n",
       "      <td>5</td>\n",
       "      <td>unauthorized_access</td>\n",
       "      <td>0.90</td>\n",
       "    </tr>\n",
       "    <tr>\n",
       "      <th>2</th>\n",
       "      <td>user</td>\n",
       "      <td>3</td>\n",
       "      <td>data_exfiltration</td>\n",
       "      <td>0.85</td>\n",
       "    </tr>\n",
       "  </tbody>\n",
       "</table>\n",
       "</div>"
      ],
      "text/plain": [
       "  user_role  asset_value        incident_type  confidence_score\n",
       "0     guest            2           login_fail              0.70\n",
       "1     admin            5  unauthorized_access              0.90\n",
       "2      user            3    data_exfiltration              0.85"
      ]
     },
     "execution_count": 6,
     "metadata": {},
     "output_type": "execute_result"
    }
   ],
   "source": [
    "# Simulated incidents\n",
    "incidents = {\n",
    "    \"user_role\": [\"guest\", \"admin\", \"user\"],\n",
    "    \"asset_value\": [2, 5, 3],\n",
    "    \"incident_type\": [\"login_fail\", \"unauthorized_access\", \"data_exfiltration\"],\n",
    "    \"confidence_score\": [0.7, 0.9, 0.85]\n",
    "}\n",
    "df_incidents = pd.DataFrame(incidents)\n",
    "\n",
    "df_incidents"
   ]
  },
  {
   "cell_type": "code",
   "execution_count": 7,
   "id": "f4f317d8",
   "metadata": {},
   "outputs": [
    {
     "data": {
      "text/html": [
       "<div>\n",
       "<style scoped>\n",
       "    .dataframe tbody tr th:only-of-type {\n",
       "        vertical-align: middle;\n",
       "    }\n",
       "\n",
       "    .dataframe tbody tr th {\n",
       "        vertical-align: top;\n",
       "    }\n",
       "\n",
       "    .dataframe thead th {\n",
       "        text-align: right;\n",
       "    }\n",
       "</style>\n",
       "<table border=\"1\" class=\"dataframe\">\n",
       "  <thead>\n",
       "    <tr style=\"text-align: right;\">\n",
       "      <th></th>\n",
       "      <th>user_role</th>\n",
       "      <th>asset_value</th>\n",
       "      <th>incident_type</th>\n",
       "      <th>confidence_score</th>\n",
       "      <th>user_weight</th>\n",
       "      <th>risk_score</th>\n",
       "    </tr>\n",
       "  </thead>\n",
       "  <tbody>\n",
       "    <tr>\n",
       "      <th>1</th>\n",
       "      <td>admin</td>\n",
       "      <td>5</td>\n",
       "      <td>unauthorized_access</td>\n",
       "      <td>0.90</td>\n",
       "      <td>3</td>\n",
       "      <td>7.20</td>\n",
       "    </tr>\n",
       "    <tr>\n",
       "      <th>2</th>\n",
       "      <td>user</td>\n",
       "      <td>3</td>\n",
       "      <td>data_exfiltration</td>\n",
       "      <td>0.85</td>\n",
       "      <td>2</td>\n",
       "      <td>4.25</td>\n",
       "    </tr>\n",
       "    <tr>\n",
       "      <th>0</th>\n",
       "      <td>guest</td>\n",
       "      <td>2</td>\n",
       "      <td>login_fail</td>\n",
       "      <td>0.70</td>\n",
       "      <td>1</td>\n",
       "      <td>2.10</td>\n",
       "    </tr>\n",
       "  </tbody>\n",
       "</table>\n",
       "</div>"
      ],
      "text/plain": [
       "  user_role  asset_value        incident_type  confidence_score  user_weight  \\\n",
       "1     admin            5  unauthorized_access              0.90            3   \n",
       "2      user            3    data_exfiltration              0.85            2   \n",
       "0     guest            2           login_fail              0.70            1   \n",
       "\n",
       "   risk_score  \n",
       "1        7.20  \n",
       "2        4.25  \n",
       "0        2.10  "
      ]
     },
     "execution_count": 7,
     "metadata": {},
     "output_type": "execute_result"
    }
   ],
   "source": [
    "# Define risk weights\n",
    "role_weight = {\"guest\": 1, \"user\": 2, \"admin\": 3}\n",
    "df_incidents[\"user_weight\"] = df_incidents[\"user_role\"].map(role_weight)\n",
    "df_incidents[\"risk_score\"] = (df_incidents[\"user_weight\"] + df_incidents[\"asset_value\"]) * df_incidents[\"confidence_score\"]\n",
    "df_incidents.sort_values(\"risk_score\", ascending=False)"
   ]
  },
  {
   "cell_type": "markdown",
   "id": "52a89397",
   "metadata": {},
   "source": [
    "## Automated Response: Lock Accounts Based on Failed Logins"
   ]
  },
  {
   "cell_type": "code",
   "execution_count": 7,
   "id": "01ea420f",
   "metadata": {},
   "outputs": [
    {
     "data": {
      "text/plain": [
       "{'user': ['alice', 'alice', 'alice', 'bob', 'bob', 'alice'],\n",
       " 'result': ['fail', 'fail', 'fail', 'fail', 'fail', 'fail']}"
      ]
     },
     "execution_count": 7,
     "metadata": {},
     "output_type": "execute_result"
    }
   ],
   "source": [
    "# Simulated login failures\n",
    "login_attempts = {\"user\": [\"alice\"]*3 + [\"bob\"]*2 + [\"alice\"], \"result\": [\"fail\"]*6}\n",
    "login_attempts\n",
    "\n"
   ]
  },
  {
   "cell_type": "code",
   "execution_count": 8,
   "id": "0d39adf0",
   "metadata": {},
   "outputs": [
    {
     "data": {
      "text/html": [
       "<div>\n",
       "<style scoped>\n",
       "    .dataframe tbody tr th:only-of-type {\n",
       "        vertical-align: middle;\n",
       "    }\n",
       "\n",
       "    .dataframe tbody tr th {\n",
       "        vertical-align: top;\n",
       "    }\n",
       "\n",
       "    .dataframe thead th {\n",
       "        text-align: right;\n",
       "    }\n",
       "</style>\n",
       "<table border=\"1\" class=\"dataframe\">\n",
       "  <thead>\n",
       "    <tr style=\"text-align: right;\">\n",
       "      <th></th>\n",
       "      <th>user</th>\n",
       "      <th>result</th>\n",
       "    </tr>\n",
       "  </thead>\n",
       "  <tbody>\n",
       "    <tr>\n",
       "      <th>0</th>\n",
       "      <td>alice</td>\n",
       "      <td>fail</td>\n",
       "    </tr>\n",
       "    <tr>\n",
       "      <th>1</th>\n",
       "      <td>alice</td>\n",
       "      <td>fail</td>\n",
       "    </tr>\n",
       "    <tr>\n",
       "      <th>2</th>\n",
       "      <td>alice</td>\n",
       "      <td>fail</td>\n",
       "    </tr>\n",
       "    <tr>\n",
       "      <th>3</th>\n",
       "      <td>bob</td>\n",
       "      <td>fail</td>\n",
       "    </tr>\n",
       "    <tr>\n",
       "      <th>4</th>\n",
       "      <td>bob</td>\n",
       "      <td>fail</td>\n",
       "    </tr>\n",
       "    <tr>\n",
       "      <th>5</th>\n",
       "      <td>alice</td>\n",
       "      <td>fail</td>\n",
       "    </tr>\n",
       "  </tbody>\n",
       "</table>\n",
       "</div>"
      ],
      "text/plain": [
       "    user result\n",
       "0  alice   fail\n",
       "1  alice   fail\n",
       "2  alice   fail\n",
       "3    bob   fail\n",
       "4    bob   fail\n",
       "5  alice   fail"
      ]
     },
     "execution_count": 8,
     "metadata": {},
     "output_type": "execute_result"
    }
   ],
   "source": [
    "df_login = pd.DataFrame(login_attempts)\n",
    "df_login"
   ]
  },
  {
   "cell_type": "code",
   "execution_count": 5,
   "id": "3544c540",
   "metadata": {},
   "outputs": [
    {
     "data": {
      "text/plain": [
       "user\n",
       "alice    LOCK ACCOUNT\n",
       "bob             ALLOW\n",
       "dtype: object"
      ]
     },
     "execution_count": 5,
     "metadata": {},
     "output_type": "execute_result"
    }
   ],
   "source": [
    "# Count failed attempts\n",
    "fail_counts = df_login[df_login[\"result\"] == \"fail\"].groupby(\"user\").size()\n",
    "response = fail_counts.apply(lambda x: \"LOCK ACCOUNT\" if x >= 3 else \"ALLOW\")\n",
    "response"
   ]
  },
  {
   "cell_type": "markdown",
   "id": "5a84e534",
   "metadata": {},
   "source": [
    "## Passcode Cracking: 4-Digit PIN Attack Simulation\n",
    "This section demonstrates different strategies for guessing 4-digit passcodes, commonly used in security assessments."
   ]
  },
  {
   "cell_type": "code",
   "execution_count": null,
   "id": "785ea590",
   "metadata": {},
   "outputs": [],
   "source": []
  }
 ],
 "metadata": {
  "kernelspec": {
   "display_name": "3.11",
   "language": "python",
   "name": "python3"
  },
  "language_info": {
   "codemirror_mode": {
    "name": "ipython",
    "version": 3
   },
   "file_extension": ".py",
   "mimetype": "text/x-python",
   "name": "python",
   "nbconvert_exporter": "python",
   "pygments_lexer": "ipython3",
   "version": "3.11.8"
  }
 },
 "nbformat": 4,
 "nbformat_minor": 5
}
